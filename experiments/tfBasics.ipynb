{
 "cells": [
  {
   "cell_type": "code",
   "execution_count": 2,
   "metadata": {},
   "outputs": [
    {
     "name": "stdout",
     "output_type": "stream",
     "text": [
      "2.3.1\n"
     ]
    }
   ],
   "source": [
    "#### Tensorflow Basics ####\n",
    "import tensorflow as tf\n",
    "print(tf.__version__)"
   ]
  },
  {
   "cell_type": "code",
   "execution_count": 3,
   "metadata": {},
   "outputs": [
    {
     "data": {
      "text/plain": [
       "<tf.Tensor: shape=(2, 2), dtype=int32, numpy=\n",
       "array([[1, 2],\n",
       "       [3, 4]])>"
      ]
     },
     "execution_count": 3,
     "metadata": {},
     "output_type": "execute_result"
    }
   ],
   "source": [
    "# defining constants\n",
    "A = tf.constant([[1, 2], [3, 4]])\n",
    "A"
   ]
  },
  {
   "cell_type": "code",
   "execution_count": 5,
   "metadata": {},
   "outputs": [
    {
     "data": {
      "text/plain": [
       "<tf.Variable 'Variable:0' shape=(2, 2) dtype=int32, numpy=\n",
       "array([[2, 4],\n",
       "       [6, 8]])>"
      ]
     },
     "execution_count": 5,
     "metadata": {},
     "output_type": "execute_result"
    }
   ],
   "source": [
    "# defining variables\n",
    "a = tf.Variable([[2, 4], [6, 8]])\n",
    "a"
   ]
  },
  {
   "cell_type": "code",
   "execution_count": 6,
   "metadata": {},
   "outputs": [
    {
     "data": {
      "text/plain": [
       "<tf.Tensor: shape=(2, 4), dtype=int32, numpy=\n",
       "array([[1, 2, 2, 4],\n",
       "       [3, 4, 6, 8]])>"
      ]
     },
     "execution_count": 6,
     "metadata": {},
     "output_type": "execute_result"
    }
   ],
   "source": [
    "# concatenate columns\n",
    "Aa = tf.concat(values=[A, a], axis= 1)\n",
    "Aa"
   ]
  },
  {
   "cell_type": "code",
   "execution_count": 9,
   "metadata": {},
   "outputs": [
    {
     "name": "stdout",
     "output_type": "stream",
     "text": [
      "tf.Tensor(\n",
      "[[0 0 0 0]\n",
      " [0 0 0 0]\n",
      " [0 0 0 0]\n",
      " [0 0 0 0]], shape=(4, 4), dtype=int32)\n",
      "tf.Tensor(\n",
      "[[1 1 1 1]\n",
      " [1 1 1 1]\n",
      " [1 1 1 1]\n",
      " [1 1 1 1]], shape=(4, 4), dtype=int32)\n",
      "tf.Tensor(\n",
      "[[0.8631772  0.7018106  0.33172274 0.5773442 ]\n",
      " [0.44827557 0.68042064 0.01575482 0.8821436 ]\n",
      " [0.34162366 0.07803762 0.52257836 0.6539862 ]\n",
      " [0.51420844 0.73064363 0.6464044  0.18486953]], shape=(4, 4), dtype=float32)\n"
     ]
    }
   ],
   "source": [
    "# tensor of zeros/ones/random\n",
    "zeros = tf.zeros(shape=(4, 4), dtype= tf.int32)\n",
    "print(zeros)\n",
    "ones = tf.ones(shape=(4, 4), dtype= tf.int32)\n",
    "print(ones)\n",
    "rand = tf.random.uniform(shape=(4, 4), dtype= tf.float32)\n",
    "print(rand)"
   ]
  },
  {
   "cell_type": "code",
   "execution_count": 10,
   "metadata": {},
   "outputs": [
    {
     "name": "stdout",
     "output_type": "stream",
     "text": [
      "tf.Tensor(\n",
      "[[1.2 2.5 3.6]\n",
      " [4.1 5.3 6.7]], shape=(2, 3), dtype=float32)\n",
      "tf.Tensor(\n",
      "[[1 2 3]\n",
      " [4 5 6]], shape=(2, 3), dtype=int32)\n"
     ]
    }
   ],
   "source": [
    "# casting to a different type\n",
    "oldTensor = tf.constant([[1.2, 2.5, 3.6], [4.1, 5.3, 6.7]], dtype= tf.float32)\n",
    "newTensor = tf.cast(oldTensor, tf.int32)\n",
    "print(oldTensor)\n",
    "print(newTensor)"
   ]
  },
  {
   "cell_type": "code",
   "execution_count": 11,
   "metadata": {},
   "outputs": [
    {
     "name": "stdout",
     "output_type": "stream",
     "text": [
      "tf.Tensor(\n",
      "[[38]\n",
      " [29]], shape=(2, 1), dtype=int32)\n"
     ]
    }
   ],
   "source": [
    "# matrix multiplication\n",
    "a = tf.constant([[7, 3], [4, 9]])\n",
    "b = tf.constant([[5], [1]])\n",
    "\n",
    "ab = tf.matmul(a, b)\n",
    "print(ab)"
   ]
  },
  {
   "cell_type": "code",
   "execution_count": null,
   "metadata": {},
   "outputs": [],
   "source": [
    "# more tensorflow functions in official documentation"
   ]
  }
 ],
 "metadata": {
  "kernelspec": {
   "display_name": "Python 3",
   "language": "python",
   "name": "python3"
  },
  "language_info": {
   "codemirror_mode": {
    "name": "ipython",
    "version": 3
   },
   "file_extension": ".py",
   "mimetype": "text/x-python",
   "name": "python",
   "nbconvert_exporter": "python",
   "pygments_lexer": "ipython3",
   "version": "3.8.3"
  }
 },
 "nbformat": 4,
 "nbformat_minor": 4
}
